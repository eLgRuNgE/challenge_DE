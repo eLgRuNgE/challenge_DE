{
 "cells": [
  {
   "cell_type": "markdown",
   "metadata": {},
   "source": [
    "# Challenge: Análisis de Tweets\n",
    "\n",
    "En este desafío, vamos a realizar un análisis de datos sobre un conjunto de tweets relacionados con las protestas de agricultores. Utilizaremos Python y algunas herramientas como `unittest`, `cProfile`, `memory_profiler` y `Jupyter Notebook` para llevar a cabo este análisis.\n",
    "\n",
    "## 1. Preparación del entorno\n",
    "\n",
    "Antes de empezar, necesitamos asegurarnos de tener todas las herramientas y datos necesarios. Para esto, verificamos que tenemos los siguientes archivos:\n",
    "\n",
    "- `q1_memory.py`: Contiene la implementación de la función `q1_memory` que busca encontrar las fechas y usuarios más activos en función del conteo de tweets.\n",
    "- `q1_time.py`: Contiene la implementación de la función `q1_time` que realiza la misma tarea que `q1_memory` pero midiendo el tiempo de ejecución.\n",
    "- `q2_memory.py`: Contiene la implementación de la función `q2_memory` que busca encontrar los emojis más utilizados en los tweets.\n",
    "- `q2_time.py`: Contiene la implementación de la función `q2_time` que realiza la misma tarea que `q2_memory` pero midiendo el tiempo de ejecución.\n",
    "- `q3_memory.py`: Contiene la implementación de la función `q3_memory` que busca encontrar los usuarios más influyentes en función del conteo de menciones.\n",
    "- `q3_time.py`: Contiene la implementación de la función `q3_time` que realiza la misma tarea que `q3_memory` pero midiendo el tiempo de ejecución.\n",
    "- `test_q1_memory.py`, `test_q1_time.py`, `test_q2_memory.py`, `test_q2_time.py`, `test_q3_memory.py`, `test_q3_time.py`: Archivos de pruebas unitarias para las funciones mencionadas anteriormente.\n",
    "- `farmers-protest-tweets-2021-2-4.json`: Archivo JSON con datos de tweets de las protestas de agricultores.\n",
    "\n",
    "- Se crea el entorno virtual y se activa (macOS):"
   ]
  },
  {
   "cell_type": "code",
   "execution_count": null,
   "metadata": {
    "vscode": {
     "languageId": "shellscript"
    }
   },
   "outputs": [],
   "source": [
    "python -m venv .venv\n",
    "source .venv/bin/activate"
   ]
  },
  {
   "cell_type": "markdown",
   "metadata": {},
   "source": [
    "- Se instalan los requerimientos en el entorno virtual:   "
   ]
  },
  {
   "cell_type": "code",
   "execution_count": null,
   "metadata": {
    "vscode": {
     "languageId": "shellscript"
    }
   },
   "outputs": [],
   "source": [
    "pip install -r requirements.txt "
   ]
  },
  {
   "cell_type": "markdown",
   "metadata": {},
   "source": [
    "- Ahora, importamos las librerías y funciones necesarias:"
   ]
  },
  {
   "cell_type": "code",
   "execution_count": null,
   "metadata": {},
   "outputs": [],
   "source": [
    "import json\n",
    "import datetime\n",
    "import memory_profiler\n",
    "from collections import Counter\n",
    "from datetime import datetime\n",
    "from typing import List, Tuple\n",
    "from q1_memory import q1_memory\n",
    "from q1_time import q1_time\n",
    "from q2_memory import q2_memory\n",
    "from q2_time import q2_time\n",
    "from q3_memory import q3_memory\n",
    "from q3_time import q3_time"
   ]
  },
  {
   "cell_type": "markdown",
   "metadata": {},
   "source": [
    "Se cargan los datos desde JSON"
   ]
  },
  {
   "cell_type": "code",
   "execution_count": null,
   "metadata": {},
   "outputs": [],
   "source": [
    "# Archivo de datos de prueba\n",
    "test_file_path = '../data/farmers-protest-tweets-2021-2-4.json'"
   ]
  },
  {
   "cell_type": "markdown",
   "metadata": {},
   "source": [
    "- Se crea la función q1_memory:"
   ]
  },
  {
   "cell_type": "code",
   "execution_count": null,
   "metadata": {},
   "outputs": [],
   "source": [
    "def q1_memory(file_path: str) -> List[Tuple[datetime.date, str]]:\n",
    "    \"\"\"\n",
    "    Encuentra las 10 fechas principales con más tweets y los usuarios más activos en esas fechas.\n",
    "\n",
    "    Args:\n",
    "    - file_path (str): Ruta al archivo JSON que contiene los datos de los tweets.\n",
    "\n",
    "    Returns:\n",
    "    - List[Tuple[datetime.date, str]]: Una lista de tuplas que contiene la fecha y el usuario más activo para cada una de las 10 fechas principales.\n",
    "    \"\"\"\n",
    "    # Leer el archivo JSON\n",
    "    with open(file_path, 'r') as f:\n",
    "        data = [[json.loads(line)['date'].split('T')[0], json.loads(line)['user']['username']] for line in f.readlines()]\n",
    "\n",
    "    # Validar si hay datos\n",
    "    if not data:\n",
    "        return []\n",
    "\n",
    "    # Obtener las 10 fechas más comunes\n",
    "    most_common_dates = Counter([d[0] for d in data]).most_common(10)\n",
    "\n",
    "    # Obtener el usuario más activo por fecha\n",
    "    most_common_users = []\n",
    "    for date in most_common_dates:\n",
    "        users_for_date = [d[1] for d in data if d[0] == date[0]]\n",
    "        if users_for_date:\n",
    "            most_common_users.append(Counter(users_for_date).most_common(1)[0][0])\n",
    "        else:\n",
    "            # Manejar el caso de una fecha sin usuarios\n",
    "            most_common_users.append(None)\n",
    "\n",
    "    # Formatear las fechas\n",
    "    formatted_dates = [datetime.strptime(date[0], \"%Y-%m-%d\").date() for date in most_common_dates]\n",
    "\n",
    "    # Agrupar las fechas y usuarios\n",
    "    results = list(zip(formatted_dates, most_common_users))\n",
    "\n",
    "    return results\n"
   ]
  },
  {
   "cell_type": "markdown",
   "metadata": {},
   "source": [
    "- Prueba de la función q1_memory\n",
    "Primero, vamos a probar la función q1_memory que encuentra las fechas y usuarios más activos en función del conteo de tweets. Esta función no mide el tiempo de ejecución, sino que se centra en el uso de memoria."
   ]
  },
  {
   "cell_type": "code",
   "execution_count": null,
   "metadata": {},
   "outputs": [],
   "source": [
    "# Medir el uso de memoria de q1_memory con memory-profiler\n",
    "mem_usage = memory_profiler.memory_usage((q1_memory, (test_file_path,)))\n",
    "\n",
    "# Imprimir el uso de memoria\n",
    "print(f\"Uso de memoria de q1_memory: {max(mem_usage)} MB\")\n",
    "\n",
    "# Ejecutar q1_memory y obtener los resultados\n",
    "result = q1_memory(test_file_path)\n",
    "\n",
    "# Imprimir los resultados obtenidos\n",
    "print(\"Resultados obtenidos:\")\n",
    "for i, (date, username) in enumerate(result, start=1):\n",
    "    print(f\"{i}. Fecha: {date}, Usuario con más publicaciones: {username}\")\n",
    "\n",
    "# Verificar el tipo y formato de los resultados\n",
    "assert isinstance(result, list)\n",
    "for item in result:\n",
    "    assert isinstance(item, tuple)\n",
    "    assert isinstance(item[0], datetime.date)\n",
    "    assert isinstance(item[1], str)"
   ]
  }
 ],
 "metadata": {
  "kernelspec": {
   "display_name": ".venv",
   "language": "python",
   "name": "python3"
  },
  "language_info": {
   "name": "python",
   "version": "3.12.2"
  },
  "orig_nbformat": 4
 },
 "nbformat": 4,
 "nbformat_minor": 2
}
